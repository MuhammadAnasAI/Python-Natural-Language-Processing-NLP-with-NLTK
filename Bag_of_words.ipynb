{
 "cells": [
  {
   "cell_type": "markdown",
   "id": "8adb04d1",
   "metadata": {},
   "source": [
    "# Bag of Words in NLP using NLKT\n",
    "\n",
    "**Bag of Words (BoW) – Background Theory in NLP**\n",
    "\n",
    "The **Bag of Words** model is a fundamental text representation technique in **Natural Language Processing (NLP)**. It converts text into numerical features by focusing solely on the **occurrence of words** in a document, ignoring grammar, word order, and context.\n",
    "\n",
    "In BoW:\n",
    "\n",
    "1. A **vocabulary** (set of unique words) is built from the entire text corpus.\n",
    "2. Each document is represented as a **vector** whose length equals the vocabulary size.\n",
    "3. Each position in the vector represents a word from the vocabulary, and the value is usually the **frequency** (count) of that word in the document.\n",
    "\n",
    "The term \"bag\" signifies that the model treats text as an unordered collection of words — only **how many times a word appears** matters, not where it appears.\n",
    "\n",
    "When implemented with **NLTK**, BoW relies on **tokenization** to break text into words and then map them to counts based on the vocabulary. This process creates a **sparse matrix** representation of text, which can be used as input to machine learning algorithms.\n",
    "\n",
    "The method is **simple and effective** for basic text classification tasks, but it cannot capture **semantic meaning** or **word relationships**.\n"
   ]
  },
  {
   "cell_type": "code",
   "execution_count": 18,
   "id": "96bfb643",
   "metadata": {},
   "outputs": [],
   "source": [
    "# Import the libraries:\n",
    "import nltk\n",
    "import re\n",
    "from nltk.corpus import stopwords\n",
    "from nltk.stem.porter import PorterStemmer\n",
    "from nltk.stem import WordNetLemmatizer\n",
    "from sklearn.feature_extraction.text import CountVectorizer"
   ]
  },
  {
   "cell_type": "code",
   "execution_count": 19,
   "id": "14829ed0",
   "metadata": {},
   "outputs": [],
   "source": [
    "paragraph = '''I am Pakistani.I love Pakistan.Pakistan is a Beautifull country.All Pakistani love their Country very much. All the Pakistani's are hard working and joyfull people......'''"
   ]
  },
  {
   "cell_type": "code",
   "execution_count": 20,
   "id": "09604b25",
   "metadata": {},
   "outputs": [],
   "source": [
    "# Import the Porter Stemmer():\n",
    "ps = PorterStemmer()\n",
    "wordnet = WordNetLemmatizer()\n",
    "sentences = nltk.sent_tokenize(paragraph)\n",
    "corpus = []\n",
    "for i in range(len(sentences)):\n",
    "    review = re.sub('[^a-zA-Z]', ' ', sentences[i])\n",
    "    review = review.split()\n",
    "    review = [wordnet.lemmatize(word) for word in review if not word in set(stopwords.words('english'))]\n",
    "    review = ' '.join(review)\n",
    "    corpus.append(review)"
   ]
  },
  {
   "cell_type": "code",
   "execution_count": 21,
   "id": "5eb65fb3",
   "metadata": {},
   "outputs": [],
   "source": [
    "# Create the Bag of words:\n",
    "cv = CountVectorizer(max_features=1500)\n",
    "X = cv.fit_transform(corpus).toarray()"
   ]
  },
  {
   "cell_type": "code",
   "execution_count": 22,
   "id": "2ffae705",
   "metadata": {},
   "outputs": [
    {
     "name": "stdout",
     "output_type": "stream",
     "text": [
      "Feature Array:\n",
      "[[1 1 2 0 0 2 1 2 2 0 0]\n",
      " [1 0 0 1 1 0 0 0 1 1 1]]\n",
      "\n",
      "Feature Names:\n",
      "['all' 'beautifull' 'country' 'hard' 'joyfull' 'love' 'much' 'pakistan'\n",
      " 'pakistani' 'people' 'working']\n"
     ]
    }
   ],
   "source": [
    "# Print the output values\n",
    "print(\"Feature Array:\")\n",
    "print(X)\n",
    "\n",
    "print(\"\\nFeature Names:\")\n",
    "print(cv.get_feature_names_out())"
   ]
  },
  {
   "cell_type": "code",
   "execution_count": 25,
   "id": "6d43417e",
   "metadata": {},
   "outputs": [
    {
     "data": {
      "image/png": "[encoded data removed]",
      "text/plain": [
       "<Figure size 1000x500 with 1 Axes>"
      ]
     },
     "metadata": {},
     "output_type": "display_data"
    }
   ],
   "source": [
    "import matplotlib.pyplot as plt\n",
    "import pandas as pd\n",
    "\n",
    "# Sum the occurrences of each word\n",
    "word_freq = X.sum(axis=0)\n",
    "\n",
    "# Create a DataFrame for visualization\n",
    "word_freq_df = pd.DataFrame({'Word': cv.get_feature_names_out(), 'Frequency': word_freq})\n",
    "\n",
    "# Create a frequency chart\n",
    "plt.figure(figsize=(10, 5))\n",
    "plt.bar(word_freq_df['Word'], word_freq_df['Frequency'])\n",
    "plt.xticks(rotation=90)\n",
    "plt.title('Word Frequency Chart')\n",
    "plt.xlabel('Words')\n",
    "plt.ylabel('Frequency')\n",
    "plt.show()"
   ]
  },
  {
   "cell_type": "code",
   "execution_count": null,
   "id": "2007af26",
   "metadata": {},
   "outputs": [],
   "source": []
  }
 ],
 "metadata": {
  "kernelspec": {
   "display_name": "nlp",
   "language": "python",
   "name": "python3"
  },
  "language_info": {
   "codemirror_mode": {
    "name": "ipython",
    "version": 3
   },
   "file_extension": ".py",
   "mimetype": "text/x-python",
   "name": "python",
   "nbconvert_exporter": "python",
   "pygments_lexer": "ipython3",
   "version": "3.10.18"
  }
 },
 "nbformat": 4,
 "nbformat_minor": 5
}
